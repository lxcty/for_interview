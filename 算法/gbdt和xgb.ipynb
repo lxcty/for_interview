{
 "cells": [
  {
   "cell_type": "markdown",
   "metadata": {
    "collapsed": true,
    "pycharm": {
     "name": "#%% md\n"
    }
   },
   "source": [
    "# 一、RF、GBDT、XGBoost特征重要性选择方法\n",
    "\n",
    "# 1、spark中RF和GBDT特征重要性获取方式一致\n",
    "    通过计算所有树的特征重要性取平均值得到。其中每棵树的特征重要性计算方法如下:\n",
    "    1、importance = 计算按照特征i进行分裂所获得的增益的总和，其中增益需要按照实例数进行缩放\n",
    "    2、归一化importance\n",
    "    \n",
    "\n",
    "# 2、XGBoost\n",
    "    1、weight，在所有树中特征用来分裂的次数\n",
    "    2、gain，total_gain/weight，在所有树中特征分裂带来的平均增益\n",
    "    3、cover，total_cover/weight，分裂涉及的总的样本数/分裂的次数\n",
    "    4、total_gain，在所有树中特征分离带来的总的增益\n",
    "    5、total_cover，在所有树中特征分裂时处理的样例的总的数量\n",
    "    \n",
    "    其中xgb-on-spark中的特征重要性采取的是weight的形式\n",
    "    "
   ]
  },
  {
   "cell_type": "markdown",
   "metadata": {
    "pycharm": {
     "name": "#%%\n"
    }
   },
   "source": [
    "# 二、gbdt和xgb的区别\n",
    "    xgb是梯度提升（Gradient Boosting）的一种实现，其基学习器除了用tree还可以用线性分类器。而gbdt特制梯度提升决策树。\n",
    "    1、gbdt使用泰勒一阶展开来近似，xgb同时采用一阶和二阶展开来近似\n",
    "    2、xgb使用列抽样来防止过拟合\n",
    "    3、xgb在代价函数中加入了正则项，控制树模型的复杂度\n",
    "    4、xgb可以处理缺失值，自动学习特征的分裂方向\n",
    "    5、xgb在特征粒度上进行并行，在训练之前，预先对数据进行排序并保存成block，在进行节点分裂时并行去计算每个特征的增益\n",
    "    "
   ]
  },
  {
   "cell_type": "code",
   "execution_count": null,
   "metadata": {},
   "outputs": [],
   "source": []
  }
 ],
 "metadata": {
  "kernelspec": {
   "display_name": "pyspark",
   "language": "python",
   "name": "pyspark"
  },
  "language_info": {
   "codemirror_mode": {
    "name": "ipython",
    "version": 3
   },
   "file_extension": ".py",
   "mimetype": "text/x-python",
   "name": "python",
   "nbconvert_exporter": "python",
   "pygments_lexer": "ipython3",
   "version": "3.7.0b4"
  }
 },
 "nbformat": 4,
 "nbformat_minor": 1
}