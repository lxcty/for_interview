{
 "cells": [
  {
   "cell_type": "markdown",
   "metadata": {},
   "source": [
    "# 一、标签定义\n",
    "    标签的定义一定要跟业务相关。有时候样本不是很合适，则选择转化链路中的标签。比如建立一个加购模型，但是只有购买的人群样本，那么就拿购买的来当作1，再随机一部分人群当作0."
   ]
  },
  {
   "cell_type": "markdown",
   "metadata": {},
   "source": [
    "# 二、如何筛选特征\n",
    "    1、特征空值率，过滤掉覆盖率低的特征\n",
    "    2、计算特征方差，选择方差大于阈值的特征\n",
    "    3、根据相关性来筛选，有皮尔逊相关系数、卡方检验等\n",
    "    4、根据特征重要性选择，重要性的判定可根据树模型或者iv、ks等指标或者加L1正则的逻辑回归的权重\n",
    "    5、根据业务场景，去掉有明显因果关系的指标"
   ]
  },
  {
   "cell_type": "markdown",
   "metadata": {},
   "source": [
    "# 三、建模的流程\n",
    "    1、定义标签\n",
    "    2、处理样本\n",
    "    3、关联特征\n",
    "    4、特征处理\n",
    "    5、选择合适的算法建模\n",
    "    6、模型有效性分析\n",
    "    7、模型迭代"
   ]
  },
  {
   "cell_type": "code",
   "execution_count": null,
   "metadata": {},
   "outputs": [],
   "source": []
  }
 ],
 "metadata": {
  "kernelspec": {
   "display_name": "pyspark",
   "language": "python",
   "name": "pyspark"
  },
  "language_info": {
   "codemirror_mode": {
    "name": "ipython",
    "version": 3
   },
   "file_extension": ".py",
   "mimetype": "text/x-python",
   "name": "python",
   "nbconvert_exporter": "python",
   "pygments_lexer": "ipython3",
   "version": "3.7.0b4"
  }
 },
 "nbformat": 4,
 "nbformat_minor": 4
}
