{
 "cells": [
  {
   "cell_type": "markdown",
   "metadata": {
    "pycharm": {
     "name": "#%%\n"
    }
   },
   "source": [
    "## 一、深拷贝和浅拷贝\n",
    "\n",
    "1、直接赋值：其实就是对象的引用（别名）。\n",
    "\n",
    "2、浅拷贝(copy)：拷贝父对象，不会拷贝对象的内部的子对象。\n",
    "\n",
    "3、深拷贝(deepcopy)： copy 模块的 deepcopy 方法，完全拷贝了父对象及其子对象。"
   ]
  },
  {
   "cell_type": "code",
   "execution_count": 1,
   "metadata": {},
   "outputs": [
    {
     "name": "stdout",
     "output_type": "stream",
     "text": [
      "a =  [1, 2, 3, 4, ['a', 'b', 'c'], 5]\n",
      "b =  [1, 2, 3, 4, ['a', 'b', 'c'], 5]\n",
      "c =  [1, 2, 3, 4, ['a', 'b', 'c']]\n",
      "d =  [1, 2, 3, 4, ['a', 'b']]\n"
     ]
    }
   ],
   "source": [
    "import copy\n",
    "a = [1, 2, 3, 4, ['a', 'b']] #原始对象\n",
    " \n",
    "b = a                       #赋值，传对象的引用，a和b都指向同一个对象\n",
    "c = copy.copy(a)            #对象拷贝，浅拷贝，a和b指向不同的对象、但是a和b的子对象还是指向同一对象\n",
    "d = copy.deepcopy(a)        #对象拷贝，深拷贝，a和b指向不同的对象、并且子对象也不同\n",
    " \n",
    "a.append(5)                 #修改对象a\n",
    "a[4].append('c')            #修改对象a中的['a', 'b']数组对象\n",
    " \n",
    "print( 'a = ', a )\n",
    "print( 'b = ', b )\n",
    "print( 'c = ', c )\n",
    "print( 'd = ', d )"
   ]
  },
  {
   "cell_type": "markdown",
   "metadata": {},
   "source": [
    "# 二、函数入参中\\*和\\*\\*的区别\n",
    "\n",
    "1、用做运算符，即\\*表示乘号，\\*\\*表示次方\n",
    "\n",
    "2、用在参数传递中，\\*会把接收到的参数形成一个元组，而\\*\\*则会把接收到的参数存入一个字典\n",
    "\n",
    "3、对元组和字典进行值引用\n",
    "\n",
    "4、序列解包"
   ]
  },
  {
   "cell_type": "code",
   "execution_count": 2,
   "metadata": {
    "pycharm": {
     "name": "#%%\n"
    }
   },
   "outputs": [
    {
     "name": "stdout",
     "output_type": "stream",
     "text": [
      "2*5=10\n",
      "2**5=32\n"
     ]
    }
   ],
   "source": [
    "#运算符\n",
    "print(\"2*5=%d\"%(2*5))\n",
    "print(\"2**5=%d\"%(2**5))"
   ]
  },
  {
   "cell_type": "code",
   "execution_count": 3,
   "metadata": {
    "pycharm": {
     "name": "#%%\n"
    }
   },
   "outputs": [
    {
     "name": "stdout",
     "output_type": "stream",
     "text": [
      "---------round 1--------- \n",
      "\n",
      "a= 1\n",
      "b= 1\n",
      "c= 0\n",
      "args= ()\n",
      "kwargs= {}\n",
      "\n",
      "---------round 2--------- \n",
      "\n",
      "a= 1\n",
      "b= 1\n",
      "c= 2\n",
      "args= (3, 1)\n",
      "kwargs= {}\n",
      "\n",
      "---------round 3--------- \n",
      "\n",
      "a= 1\n",
      "b= 1\n",
      "c= 2\n",
      "args= (3, 1)\n",
      "kwargs= {'x': 1, 'y': 9}\n"
     ]
    }
   ],
   "source": [
    "#参数传递\n",
    "def fun(a, b, c=0, *args, **kwargs):\n",
    "    print('a=', a)\n",
    "    print('b=', b)\n",
    "    print('c=', c)\n",
    "    print('args=', args)\n",
    "    print('kwargs=', kwargs)\n",
    " \n",
    "print(\"---------round 1--------- \\n\")\n",
    "fun(1,1)\n",
    "print(\"\\n---------round 2--------- \\n\")\n",
    "fun(1,1,2,3,1)\n",
    "print(\"\\n---------round 3--------- \\n\")\n",
    "fun(1,1,2,3,1,x=1,y=9)"
   ]
  },
  {
   "cell_type": "code",
   "execution_count": 4,
   "metadata": {
    "pycharm": {
     "name": "#%%\n"
    }
   },
   "outputs": [
    {
     "name": "stdout",
     "output_type": "stream",
     "text": [
      "---------round 1--------- \n",
      "\n",
      "data1:  one\n",
      "data2:  2\n",
      "data3:  3\n",
      "\n",
      "---------round 2--------- \n",
      "\n",
      "data1:  3\n",
      "data2:  2\n",
      "data3:  one\n"
     ]
    }
   ],
   "source": [
    "#元组和字典的值引用\n",
    "def fun(data1, data2, data3):\n",
    "    print(\"data1: \", data1)\n",
    "    print(\"data2: \", data2)\n",
    "    print(\"data3: \", data3)\n",
    "\n",
    "print(\"---------round 1--------- \\n\")\n",
    "args = (\"one\", 2, 3)\n",
    "fun(*args)\n",
    "\n",
    "print(\"\\n---------round 2--------- \\n\")\n",
    "kwargs = {\"data3\": \"one\", \"data2\": 2, \"data1\": 3}\n",
    "fun(**kwargs)"
   ]
  },
  {
   "cell_type": "code",
   "execution_count": 5,
   "metadata": {
    "pycharm": {
     "name": "#%%\n"
    }
   },
   "outputs": [
    {
     "name": "stdout",
     "output_type": "stream",
     "text": [
      "a: 0\n",
      "b: 1\n",
      "c: [2, 3]\n"
     ]
    }
   ],
   "source": [
    "#序列解包\n",
    "a, b, *c = 0, 1, 2, 3  \n",
    "print(\"a:\",a)  \n",
    "print(\"b:\",b)  \n",
    "print(\"c:\",c)  "
   ]
  },
  {
   "cell_type": "code",
   "execution_count": null,
   "metadata": {},
   "outputs": [],
   "source": []
  }
 ],
 "metadata": {
  "kernelspec": {
   "display_name": "Python 3",
   "language": "python",
   "name": "python3"
  },
  "language_info": {
   "codemirror_mode": {
    "name": "ipython",
    "version": 3
   },
   "file_extension": ".py",
   "mimetype": "text/x-python",
   "name": "python",
   "nbconvert_exporter": "python",
   "pygments_lexer": "ipython3",
   "version": "3.7.0b4"
  }
 },
 "nbformat": 4,
 "nbformat_minor": 1
}
